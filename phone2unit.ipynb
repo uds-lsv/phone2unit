{
 "cells": [
  {
   "cell_type": "code",
   "execution_count": 1,
   "id": "e7209429",
   "metadata": {},
   "outputs": [],
   "source": [
    "import pickle\n",
    "\n",
    "from collections import Counter, defaultdict\n",
    "\n",
    "import numpy as np\n",
    "\n",
    "from scipy.spatial import distance\n",
    "\n",
    "from scipy.stats import entropy as dist_entropy\n",
    "from scipy.spatial.distance import squareform\n",
    "\n",
    "from scipy.cluster import hierarchy\n",
    "\n",
    "import matplotlib.pyplot as plt\n",
    "\n",
    "from scipy.stats import pearsonr\n",
    "from scipy.stats import spearmanr\n",
    "\n",
    "import pandas as pd"
   ]
  },
  {
   "cell_type": "code",
   "execution_count": 2,
   "id": "d88833a8",
   "metadata": {},
   "outputs": [],
   "source": [
    "w2v_dict = pickle.load(open(\"mapping/wav2vec2_timit_dictionary.pkl\",\"rb\"))\n",
    "xlsr_dict = pickle.load(open(\"mapping/xlsr_timit_dictionary.pkl\",\"rb\"))"
   ]
  },
  {
   "cell_type": "code",
   "execution_count": 3,
   "id": "bbfe62f9",
   "metadata": {},
   "outputs": [
    {
     "name": "stdout",
     "output_type": "stream",
     "text": [
      "dict_keys(['marker', 'd', 'oʊ', 'ɾ̃', 'æ', 's', '[k]cl', 'k', 'm', 'i', 'ɾ', 'ɨ', 'ɛ', 'ɹ', 'ɪ', 'n', 'ə', 'ʔ', 'ɔɪ', 'l', '[g]cl', 'g', 'aɪ', 'ð', '[t]cl', 'ɑ', 'j', 'ʉ', 'ʊ', 'ŋ', 'f', 'ɚ', '[p]cl', 'p', 'ʃ', 'V[h]', '[d]cl', 'n̩', 'w', 'ɔ', 'Epi', 'ɝ', 't', 'θ', 'eɪ', 'Pau', 'v', '[b]cl', 'b', 'ʌ', 'z', 'ʧ', 'u', 'ʤ', 'l̩', 'Dv[ə]([ə̥])', 'aʊ', 'h', 'm̩', 'ʒ', 'Sy[ŋ]'])\n"
     ]
    }
   ],
   "source": [
    "print(w2v_dict.keys())"
   ]
  },
  {
   "cell_type": "code",
   "execution_count": 4,
   "id": "d1b48668",
   "metadata": {},
   "outputs": [],
   "source": [
    "PHONEMES_0 = \"d oʊ ɾ̃ æ s k m i ɾ ɨ ɛ ʔ ɹ ɪ n ə ʔ ɔɪ l g aɪ ð ɑ j ʉ ʊ ŋ f ɚ p ʃ n̩ w ɔ ɝ t θ eɪ v b ʌ z ʧ u ʤ l̩ aʊ h m̩ ʒ Sy[ŋ]\".split(' ')"
   ]
  },
  {
   "cell_type": "code",
   "execution_count": 5,
   "id": "fb9a583a",
   "metadata": {},
   "outputs": [],
   "source": [
    "ph_02ph = {\n",
    "    'd': 'd',\n",
    "    'oʊ': 'oʊ',\n",
    "    'æ': 'æ', \n",
    "    's': 's',\n",
    "    'k': 'k',\n",
    "    'm': 'm',\n",
    "    'i': 'i',\n",
    "    'ɨ': 'i',\n",
    "    'ɛ': 'ɛ',\n",
    "    'ɹ': 'ɹ',\n",
    "    'ɪ': 'ɪ',\n",
    "    'n': 'n',\n",
    "    'ə': 'ə',\n",
    "    'ɔɪ': 'ɔɪ',\n",
    "    'l': 'l',\n",
    "    'g': 'g',\n",
    "    'aɪ': 'aɪ',\n",
    "    'ð': 'ð',\n",
    "    'ɑ': 'ɑ',\n",
    "    'j': 'j',\n",
    "    'ʉ': 'u',\n",
    "    'ʊ': 'ʊ',\n",
    "    'ŋ': 'ŋ',\n",
    "    'f': 'f',\n",
    "    'ɚ': 'ɝ',\n",
    "    'p': 'p',\n",
    "    'ʃ': 'ʃ',\n",
    "    'n̩': 'n',\n",
    "    'w': 'w',\n",
    "    'ɔ': 'ɔ',\n",
    "    'ɝ': 'ɝ',\n",
    "    't': 't',\n",
    "    'θ': 'θ',\n",
    "    'eɪ': 'eɪ',\n",
    "    'v': 'v',\n",
    "    'b': 'b',\n",
    "    'ʌ': 'ʌ',\n",
    "    'z': 'z',\n",
    "    'ʧ': 'ʧ',\n",
    "    'u': 'u',\n",
    "    'ʤ': 'ʤ',\n",
    "    'l̩': 'l',\n",
    "    'aʊ': 'aʊ',\n",
    "    'h': 'h',\n",
    "    'm̩': 'm',\n",
    "    'ʒ': 'ʒ', \n",
    "    \"Sy[ŋ]\": 'ŋ', \n",
    "}"
   ]
  },
  {
   "cell_type": "code",
   "execution_count": 6,
   "id": "64cbb27b",
   "metadata": {},
   "outputs": [
    {
     "data": {
      "text/plain": [
       "40"
      ]
     },
     "execution_count": 6,
     "metadata": {},
     "output_type": "execute_result"
    }
   ],
   "source": [
    "PHONEMES = list(set(ph_02ph.values()))\n",
    "len(PHONEMES)"
   ]
  },
  {
   "cell_type": "code",
   "execution_count": 7,
   "id": "129b574a",
   "metadata": {},
   "outputs": [],
   "source": [
    "ph2color = {\n",
    "    'z': 'r',\n",
    "    'h': 'r',\n",
    "    's': 'r',\n",
    "    'd': 'orange',\n",
    "    'b': 'orange',\n",
    "    'ʒ': 'r',\n",
    "    'θ': 'r',\n",
    "    'ɪ': 'b',\n",
    "    'n': 'g',\n",
    "    'aɪ': 'b',\n",
    "    'ð': 'r',\n",
    "    'l': 'lightblue',\n",
    "    'ɔ': 'b',\n",
    "    'æ': 'b',\n",
    "    'aʊ': 'b',\n",
    "    'f': 'r',\n",
    "    'm': 'g',\n",
    "    'j': 'lightblue',\n",
    "    'ʊ': 'b',\n",
    "    'ʃ': 'r',\n",
    "    'v': 'r',\n",
    "    'ɑ': 'b',\n",
    "    'oʊ': 'b',\n",
    "    'ʌ': 'b',\n",
    "    'ə': 'b',\n",
    "    'p': 'orange',\n",
    "    'g': 'orange',\n",
    "    'ŋ': 'g',\n",
    "    'k':'orange',\n",
    "    'ɔɪ': 'b',\n",
    "    'eɪ': 'b',\n",
    "    'ʧ': 'purple',\n",
    "    't': 'orange',\n",
    "    'ɛ': 'b',\n",
    "    'u': 'b',\n",
    "    'ɝ': 'b',\n",
    "    'ʤ': 'purple',\n",
    "    'w': 'lightblue',\n",
    "    'ɹ': 'lightblue',\n",
    "    'i': 'b',\n",
    "    'ɾ': 'lightblue',\n",
    "}"
   ]
  },
  {
   "cell_type": "code",
   "execution_count": 8,
   "id": "89ddd661",
   "metadata": {},
   "outputs": [],
   "source": [
    "cat2class = {\n",
    "    'd': 'P',\n",
    "    's': 'F',\n",
    "    'k': 'P',\n",
    "    'm': 'N',\n",
    "    'ɹ': 'AP',\n",
    "    'n': 'N',\n",
    "    'l': 'AP',\n",
    "    'g': 'P',\n",
    "    'ð': 'F',\n",
    "    'j': 'AP',\n",
    "    'ŋ': 'N',\n",
    "    'f': 'F',\n",
    "    'p': 'P',\n",
    "    'ʃ': 'F',\n",
    "    'w': 'AP',\n",
    "    't': 'P',\n",
    "    'θ': 'F',\n",
    "    'v': 'F',\n",
    "    'b': 'P',\n",
    "    'z': 'F',\n",
    "    'ʧ': 'AF',\n",
    "    'ʤ': 'AF',\n",
    "    'h': 'F',\n",
    "    'ʒ': 'F',\n",
    "    'aɪ': 'V',  \n",
    "    'ɔ': 'V',\n",
    "    'ə': 'V',\n",
    "    'æ': 'V',\n",
    "    'ɪ': 'V',\n",
    "    'ɛ': 'V',\n",
    "    'i': 'V',\n",
    "    'oʊ': 'V',\n",
    "    'ʌ': 'V',\n",
    "    'ɝ': 'V',\n",
    "    'ʊ': 'V',\n",
    "    'eɪ': 'V',\n",
    "    'ɑ': 'V',\n",
    "    'u': 'V',\n",
    "    'ɔɪ': 'V',\n",
    "    'aʊ': 'V',\n",
    "    \n",
    "}"
   ]
  },
  {
   "cell_type": "code",
   "execution_count": 9,
   "id": "9bfc14e8",
   "metadata": {},
   "outputs": [],
   "source": [
    "VOWELS = set(\"oʊ æ i ɛ ɪ ə ɔɪ aɪ ɑ ʊ ɔ eɪ ʌ u aʊ\".split())\n",
    "\n",
    "CONSONANTS = set(\"d s k m ɹ n l g ð j ŋ f p ʃ w t θ v b z ʧ ʤ h ʒ\".split())\n",
    "\n",
    "SONORANTS = set(\"oʊ æ i ɛ ɪ ə ɔɪ aɪ ɑ ʊ ɔ eɪ ʌ u aʊ j l ɹ w m n ŋ\".split())\n",
    "\n",
    "OBSTRUENTS = set(\"d s k g ð  f p ʃ t θ v b z ʧ ʤ h ʒ\".split())\n",
    "\n",
    "NASALS = set(\"m n ŋ\".split())\n",
    "\n",
    "APPROXIMANTS = set(\"j l ɹ w\".split())\n",
    "\n",
    "PLOSIVES = set(\"p b t d k g\".split())\n",
    "\n",
    "FRICATIVES = set(\"s z ʃ ʒ f v θ ð h\".split())\n",
    "\n",
    "AFRICATES = set(\"ʧ ʤ\".split())"
   ]
  },
  {
   "cell_type": "code",
   "execution_count": 10,
   "id": "d8a60bb0",
   "metadata": {},
   "outputs": [],
   "source": [
    "con2manner = {\n",
    "    'd': 'P',\n",
    "    's': 'F',\n",
    "    'k': 'P',\n",
    "    'm': 'N',\n",
    "    'ɹ': 'AP',\n",
    "    'n': 'N',\n",
    "    'l': 'AP',\n",
    "    'g': 'P',\n",
    "    'ð': 'F',\n",
    "    'j': 'AP',\n",
    "    'ŋ': 'N',\n",
    "    'f': 'F',\n",
    "    'p': 'P',\n",
    "    'ʃ': 'F',\n",
    "    'w': 'AP',\n",
    "    't': 'P',\n",
    "    'θ': 'F',\n",
    "    'v': 'F',\n",
    "    'b': 'P',\n",
    "    'z': 'F',\n",
    "    'ʧ': 'AF',\n",
    "    'ʤ': 'AF',\n",
    "    'h': 'F',\n",
    "    'ʒ': 'F'\n",
    "}\n"
   ]
  },
  {
   "cell_type": "code",
   "execution_count": 11,
   "id": "3ecf4493",
   "metadata": {},
   "outputs": [],
   "source": [
    "def make_phone_category_dict(raw_dict, phone_map, codebook='A', concat=False):\n",
    "    \"\"\"\"\"\"\n",
    "    phone_dict = dict.fromkeys(PHONEMES)    \n",
    "\n",
    "\n",
    "    for ph_0 in set(phone_map.values()):\n",
    "\n",
    "        if phone_dict[phone_map[ph_0]]:\n",
    "            pass\n",
    "        else:\n",
    "            phone_dict[phone_map[ph_0]] = []\n",
    "            \n",
    "        if codebook == 'AB':\n",
    "            if concat:\n",
    "                phone_dict[phone_map[ph_0]].extend(\n",
    "                    str(d1) + '-' + str(d2) for d1, d2 in zip(raw_dict[ph_0][0], raw_dict[ph_0][1])\n",
    "                )\n",
    "            else:\n",
    "                phone_dict[phone_map[ph_0]].extend(\n",
    "                    'A' + str(d1) for d1 in raw_dict[ph_0][0]\n",
    "                )\n",
    "                phone_dict[phone_map[ph_0]].extend(\n",
    "                    'B' + str(d2 - 320) for d2 in raw_dict[ph_0][1]\n",
    "                )\n",
    "\n",
    "        elif codebook == 'A':\n",
    "            phone_dict[phone_map[ph_0]].extend(raw_dict[ph_0][0])\n",
    "\n",
    "        elif codebook == 'B':\n",
    "            phone_dict[phone_map[ph_0]].extend(raw_dict[ph_0][1])\n",
    "            \n",
    "    return phone_dict"
   ]
  },
  {
   "cell_type": "code",
   "execution_count": 12,
   "id": "dfca885a",
   "metadata": {},
   "outputs": [],
   "source": [
    "w2v_dict2 = make_phone_category_dict(w2v_dict, ph_02ph, codebook='AB')\n",
    "xlsr_dict2 = make_phone_category_dict(xlsr_dict, ph_02ph, codebook='AB')"
   ]
  },
  {
   "cell_type": "code",
   "execution_count": 13,
   "id": "6fddd41b",
   "metadata": {},
   "outputs": [],
   "source": [
    "manner2con = defaultdict(list)\n",
    "\n",
    "for c in con2manner:\n",
    "    manner2con[con2manner[c]].append(c)"
   ]
  },
  {
   "cell_type": "code",
   "execution_count": 14,
   "id": "665117b7",
   "metadata": {},
   "outputs": [
    {
     "data": {
      "text/plain": [
       "(353, 0.5515625)"
      ]
     },
     "execution_count": 14,
     "metadata": {},
     "output_type": "execute_result"
    }
   ],
   "source": [
    "all_units = []\n",
    "\n",
    "for k, v in w2v_dict2.items():\n",
    "    all_units.extend(v)\n",
    "     \n",
    "DISCRETE_UNITS = set(all_units)\n",
    "\n",
    "len(DISCRETE_UNITS), len(DISCRETE_UNITS)/(320*2)"
   ]
  },
  {
   "cell_type": "code",
   "execution_count": 15,
   "id": "db77aecc",
   "metadata": {},
   "outputs": [
    {
     "data": {
      "text/plain": [
       "(155, 0.2421875)"
      ]
     },
     "execution_count": 15,
     "metadata": {},
     "output_type": "execute_result"
    }
   ],
   "source": [
    "xlsr_all_units = []\n",
    "\n",
    "for k, v in xlsr_dict2.items():\n",
    "    xlsr_all_units.extend(v)\n",
    "    \n",
    "XLSR_DISCRETE_UNITS = set(xlsr_all_units)\n",
    "\n",
    "len(XLSR_DISCRETE_UNITS), len(XLSR_DISCRETE_UNITS)/(320*2)"
   ]
  },
  {
   "cell_type": "code",
   "execution_count": 16,
   "id": "689a190f",
   "metadata": {},
   "outputs": [],
   "source": [
    "def normalize_phoneme_count(ph_dict, ph, codebook_idx=0):\n",
    "\n",
    "    N = len(ph_dict[ph])\n",
    "    for d, c in Counter(ph_dict[ph]).most_common(10):\n",
    "        print(f\"{d:<10} {100*c/N:.3f}%\")"
   ]
  },
  {
   "cell_type": "code",
   "execution_count": 17,
   "id": "6f66b417",
   "metadata": {},
   "outputs": [
    {
     "name": "stdout",
     "output_type": "stream",
     "text": [
      "A96        19.738%\n",
      "B199       19.383%\n",
      "B57        13.140%\n",
      "A29        10.257%\n",
      "A196       7.256%\n",
      "B263       4.900%\n",
      "B281       3.815%\n",
      "A46        2.496%\n",
      "A271       1.603%\n",
      "A79        1.525%\n"
     ]
    }
   ],
   "source": [
    "normalize_phoneme_count(xlsr_dict2, 'f')"
   ]
  },
  {
   "cell_type": "code",
   "execution_count": 18,
   "id": "3dd3f85c",
   "metadata": {},
   "outputs": [
    {
     "name": "stdout",
     "output_type": "stream",
     "text": [
      "A196       11.657%\n",
      "B263       5.368%\n",
      "A148       4.992%\n",
      "B199       3.695%\n",
      "A29        3.265%\n",
      "B281       3.030%\n",
      "B162       2.929%\n",
      "B79        2.466%\n",
      "A96        2.251%\n",
      "A46        2.177%\n"
     ]
    }
   ],
   "source": [
    "normalize_phoneme_count(xlsr_dict2, 'v')"
   ]
  },
  {
   "cell_type": "code",
   "execution_count": 19,
   "id": "b4e27caf",
   "metadata": {},
   "outputs": [
    {
     "name": "stdout",
     "output_type": "stream",
     "text": [
      "A231       3.747%\n",
      "B213       3.673%\n",
      "A95        3.507%\n",
      "A128       3.378%\n",
      "B253       3.304%\n",
      "A11        3.175%\n",
      "A136       2.879%\n",
      "A123       2.842%\n",
      "A4         2.842%\n",
      "B101       2.824%\n"
     ]
    }
   ],
   "source": [
    "normalize_phoneme_count(xlsr_dict2, 'ʊ')"
   ]
  },
  {
   "cell_type": "code",
   "execution_count": 20,
   "id": "646a0340",
   "metadata": {},
   "outputs": [
    {
     "name": "stdout",
     "output_type": "stream",
     "text": [
      "A66        18.328%\n",
      "A33        15.006%\n",
      "B183       6.586%\n",
      "B140       4.467%\n",
      "A271       3.551%\n",
      "B100       3.093%\n",
      "A82        2.921%\n",
      "A96        2.864%\n",
      "B83        2.635%\n",
      "B97        2.348%\n"
     ]
    }
   ],
   "source": [
    "normalize_phoneme_count(xlsr_dict2, 'ʒ')"
   ]
  },
  {
   "cell_type": "code",
   "execution_count": 21,
   "id": "f3511676",
   "metadata": {},
   "outputs": [
    {
     "name": "stdout",
     "output_type": "stream",
     "text": [
      "A66        23.393%\n",
      "A33        15.813%\n",
      "B66        6.038%\n",
      "B83        5.112%\n",
      "B3         4.688%\n",
      "B140       3.984%\n",
      "A96        2.964%\n",
      "B228       2.872%\n",
      "B310       2.807%\n",
      "A82        2.652%\n"
     ]
    }
   ],
   "source": [
    "normalize_phoneme_count(xlsr_dict2, 'ʃ') #ʃ ʒ"
   ]
  },
  {
   "cell_type": "code",
   "execution_count": 22,
   "id": "c79bd1e0",
   "metadata": {},
   "outputs": [
    {
     "name": "stdout",
     "output_type": "stream",
     "text": [
      "A82        16.172%\n",
      "A113       11.254%\n",
      "A33        7.499%\n",
      "B183       6.184%\n",
      "A271       4.723%\n",
      "B140       4.433%\n",
      "B66        4.220%\n",
      "B46        3.303%\n",
      "A53        2.606%\n",
      "B307       2.391%\n"
     ]
    }
   ],
   "source": [
    "normalize_phoneme_count(xlsr_dict2, 'z') #ʃ ʒ"
   ]
  },
  {
   "cell_type": "code",
   "execution_count": 23,
   "id": "d5da86e9",
   "metadata": {},
   "outputs": [
    {
     "name": "stdout",
     "output_type": "stream",
     "text": [
      "A82        18.158%\n",
      "A113       15.488%\n",
      "B66        9.095%\n",
      "A33        7.387%\n",
      "B3         6.529%\n",
      "B140       4.419%\n",
      "B83        3.759%\n",
      "B46        3.223%\n",
      "B264       2.919%\n",
      "A53        2.501%\n"
     ]
    }
   ],
   "source": [
    "normalize_phoneme_count(xlsr_dict2, 's')"
   ]
  },
  {
   "cell_type": "code",
   "execution_count": 24,
   "id": "976257a7",
   "metadata": {},
   "outputs": [
    {
     "name": "stdout",
     "output_type": "stream",
     "text": [
      "A15        10.214%\n",
      "A273       9.831%\n",
      "B302       5.398%\n",
      "B174       4.687%\n",
      "B117       4.085%\n",
      "B133       3.813%\n",
      "A229       3.415%\n",
      "A134       3.045%\n",
      "A97        2.747%\n",
      "A188       2.413%\n"
     ]
    }
   ],
   "source": [
    "normalize_phoneme_count(xlsr_dict2, 'n')"
   ]
  },
  {
   "cell_type": "code",
   "execution_count": 25,
   "id": "a6d5bf15",
   "metadata": {},
   "outputs": [
    {
     "name": "stdout",
     "output_type": "stream",
     "text": [
      "A273       9.722%\n",
      "A15        9.402%\n",
      "B133       7.301%\n",
      "B117       4.131%\n",
      "A229       3.721%\n",
      "A134       3.471%\n",
      "B196       3.191%\n",
      "B186       3.181%\n",
      "A97        3.171%\n",
      "B255       3.131%\n"
     ]
    }
   ],
   "source": [
    "normalize_phoneme_count(xlsr_dict2, 'ŋ')"
   ]
  },
  {
   "cell_type": "code",
   "execution_count": 26,
   "id": "99ea8b74",
   "metadata": {},
   "outputs": [
    {
     "name": "stdout",
     "output_type": "stream",
     "text": [
      "B174       10.040%\n",
      "A15        7.500%\n",
      "B272       7.363%\n",
      "A273       6.877%\n",
      "B133       4.210%\n",
      "A279       3.868%\n",
      "A229       3.548%\n",
      "A280       3.084%\n",
      "A34        2.706%\n",
      "B79        2.481%\n"
     ]
    }
   ],
   "source": [
    "normalize_phoneme_count(xlsr_dict2, 'm')"
   ]
  },
  {
   "cell_type": "code",
   "execution_count": 27,
   "id": "79e73d19",
   "metadata": {},
   "outputs": [
    {
     "name": "stdout",
     "output_type": "stream",
     "text": [
      "B18        18.029%\n",
      "A45        15.586%\n",
      "B228       6.706%\n",
      "A82        6.004%\n",
      "A33        5.855%\n",
      "B199       3.991%\n",
      "A96        3.849%\n",
      "A66        3.782%\n",
      "A29        3.451%\n",
      "B97        2.931%\n"
     ]
    }
   ],
   "source": [
    "normalize_phoneme_count(xlsr_dict2, 't')"
   ]
  },
  {
   "cell_type": "code",
   "execution_count": 28,
   "id": "66cc9625",
   "metadata": {},
   "outputs": [
    {
     "name": "stdout",
     "output_type": "stream",
     "text": [
      "A46        15.237%\n",
      "A29        11.515%\n",
      "B310       11.114%\n",
      "A96        9.342%\n",
      "B200       6.786%\n",
      "B215       5.153%\n",
      "A33        3.762%\n",
      "A31        3.696%\n",
      "B153       3.034%\n",
      "B18        2.937%\n"
     ]
    }
   ],
   "source": [
    "normalize_phoneme_count(xlsr_dict2, 'k')"
   ]
  },
  {
   "cell_type": "code",
   "execution_count": 29,
   "id": "d2b0b619",
   "metadata": {},
   "outputs": [
    {
     "name": "stdout",
     "output_type": "stream",
     "text": [
      "B128       10.699%\n",
      "B90        10.605%\n",
      "B270       9.289%\n",
      "B168       5.449%\n",
      "A280       4.929%\n",
      "B98        4.701%\n",
      "A34        4.348%\n",
      "A229       3.706%\n",
      "A97        3.099%\n",
      "A15        2.898%\n"
     ]
    }
   ],
   "source": [
    "normalize_phoneme_count(xlsr_dict2, 'aʊ')"
   ]
  },
  {
   "cell_type": "code",
   "execution_count": 30,
   "id": "fc839b6f",
   "metadata": {},
   "outputs": [
    {
     "name": "stdout",
     "output_type": "stream",
     "text": [
      "A79        30.051%\n",
      "B18        19.059%\n",
      "B214       7.557%\n",
      "A279       6.463%\n",
      "B159       6.158%\n",
      "A20        2.646%\n",
      "B199       2.646%\n",
      "B49        2.214%\n",
      "A31        1.985%\n",
      "B215       1.679%\n"
     ]
    }
   ],
   "source": [
    "normalize_phoneme_count(xlsr_dict2, 'b')"
   ]
  },
  {
   "cell_type": "code",
   "execution_count": 31,
   "id": "140cda41",
   "metadata": {},
   "outputs": [],
   "source": [
    "def create_distribution(phone_to_units_dict, unit_set):\n",
    "    \"\"\"\n",
    "    Given each phoneme as a bag of discrete units, return distribution\n",
    "    \"\"\"\n",
    "    ph2dist = dict.fromkeys(PHONEMES)  \n",
    "\n",
    "    for ph in PHONEMES:\n",
    "        N = len(phone_to_units_dict[ph])\n",
    "        d_counts = Counter(phone_to_units_dict[ph])\n",
    "        ph2dist[ph] = list(float(d_counts[d])/N for d in unit_set)\n",
    "        \n",
    "    return ph2dist"
   ]
  },
  {
   "cell_type": "code",
   "execution_count": 32,
   "id": "300eb23f",
   "metadata": {},
   "outputs": [],
   "source": [
    "ph2dist = create_distribution(w2v_dict2, DISCRETE_UNITS)\n",
    "xlsr_ph2dist = create_distribution(xlsr_dict2, XLSR_DISCRETE_UNITS)"
   ]
  },
  {
   "cell_type": "code",
   "execution_count": 33,
   "id": "33ed42e4",
   "metadata": {},
   "outputs": [
    {
     "data": {
      "text/plain": [
       "0.24315828706622605"
      ]
     },
     "execution_count": 33,
     "metadata": {},
     "output_type": "execute_result"
    }
   ],
   "source": [
    "distance.jensenshannon(xlsr_ph2dist['s'], xlsr_ph2dist['z'])"
   ]
  },
  {
   "cell_type": "code",
   "execution_count": 34,
   "id": "541d254c",
   "metadata": {},
   "outputs": [
    {
     "data": {
      "text/plain": [
       "0.2829856121507922"
      ]
     },
     "execution_count": 34,
     "metadata": {},
     "output_type": "execute_result"
    }
   ],
   "source": [
    "distance.jensenshannon(ph2dist['s'], ph2dist['z'])"
   ]
  },
  {
   "cell_type": "code",
   "execution_count": 35,
   "id": "5dbdf3f7",
   "metadata": {},
   "outputs": [],
   "source": [
    "def entropy_per_phone(phone_to_dist):\n",
    "    \"\"\"\n",
    "    Given a phoneme as a distribution over discrere units, return entropy\n",
    "    \"\"\"\n",
    "    ph2entropy = dict.fromkeys(PHONEMES)\n",
    "\n",
    "    for ph in PHONEMES:\n",
    "        H = dist_entropy(phone_to_dist[ph])\n",
    "        ph2entropy[ph] = H\n",
    "\n",
    "\n",
    "    return ph2entropy"
   ]
  },
  {
   "cell_type": "code",
   "execution_count": 36,
   "id": "84242673",
   "metadata": {},
   "outputs": [],
   "source": [
    "ph2entropy = entropy_per_phone(ph2dist) \n",
    "xlsr_ph2entropy = entropy_per_phone(xlsr_ph2dist) "
   ]
  },
  {
   "cell_type": "code",
   "execution_count": 37,
   "id": "76737304",
   "metadata": {},
   "outputs": [
    {
     "data": {
      "text/plain": [
       "3.518489569665948"
      ]
     },
     "execution_count": 37,
     "metadata": {},
     "output_type": "execute_result"
    }
   ],
   "source": [
    "N = len(xlsr_ph2entropy)\n",
    "sum(xlsr_ph2entropy.values())/N"
   ]
  },
  {
   "cell_type": "code",
   "execution_count": 38,
   "id": "7304df5d",
   "metadata": {},
   "outputs": [
    {
     "data": {
      "text/plain": [
       "3.969280242534688"
      ]
     },
     "execution_count": 38,
     "metadata": {},
     "output_type": "execute_result"
    }
   ],
   "source": [
    "N = len(ph2entropy)\n",
    "sum(ph2entropy.values())/N"
   ]
  },
  {
   "cell_type": "code",
   "execution_count": 39,
   "id": "11585e9c",
   "metadata": {},
   "outputs": [
    {
     "name": "stdout",
     "output_type": "stream",
     "text": [
      "ə      4.66    V\n",
      "ɪ      4.62    V\n",
      "ʊ      4.55    V\n",
      "ʌ      4.50    V\n",
      "ɛ      4.49    V\n",
      "v      4.40    F\n",
      "oʊ     4.33    V\n",
      "ð      4.32    F\n",
      "θ      4.28    F\n",
      "eɪ     4.27    V\n",
      "l      4.25   AP\n",
      "n      4.24    N\n",
      "m      4.22    N\n",
      "u      4.22    V\n",
      "i      4.21    V\n",
      "ɔɪ     4.14    V\n",
      "æ      4.13    V\n",
      "aɪ     4.11    V\n",
      "aʊ     4.09    V\n",
      "h      4.05    F\n",
      "ɑ      4.01    V\n",
      "ɹ      3.98   AP\n",
      "z      3.95    F\n",
      "ŋ      3.93    N\n",
      "ɔ      3.87    V\n",
      "d      3.87    P\n",
      "j      3.86   AP\n",
      "ɝ      3.85    V\n",
      "s      3.78    F\n",
      "w      3.66   AP\n",
      "t      3.65    P\n",
      "ʒ      3.60    F\n",
      "ʤ      3.43   AF\n",
      "f      3.41    F\n",
      "p      3.40    P\n",
      "ʃ      3.33    F\n",
      "b      3.30    P\n",
      "k      3.30    P\n",
      "g      3.29    P\n",
      "ʧ      3.25   AF\n"
     ]
    }
   ],
   "source": [
    "for (ph, H) in dict(sorted(ph2entropy.items(), key=lambda item: item[1], reverse=True)).items():\n",
    "    print(f\"{ph:<4} {H:6.2f} {cat2class[ph]:>4}\")"
   ]
  },
  {
   "cell_type": "code",
   "execution_count": 40,
   "id": "e324c790",
   "metadata": {},
   "outputs": [
    {
     "name": "stdout",
     "output_type": "stream",
     "text": [
      "ə      4.16    V\n",
      "ɪ      4.09    V\n",
      "ʊ      4.09    V\n",
      "v      4.01    F\n",
      "u      3.95    V\n",
      "ʌ      3.92    V\n",
      "ɛ      3.88    V\n",
      "oʊ     3.84    V\n",
      "ð      3.83    F\n",
      "l      3.83   AP\n",
      "n      3.82    N\n",
      "h      3.79    F\n",
      "i      3.78    V\n",
      "ɔɪ     3.77    V\n",
      "m      3.76    N\n",
      "ŋ      3.74    N\n",
      "ɹ      3.72   AP\n",
      "eɪ     3.71    V\n",
      "j      3.60   AP\n",
      "ɝ      3.56    V\n",
      "aɪ     3.55    V\n",
      "θ      3.53    F\n",
      "w      3.53   AP\n",
      "æ      3.51    V\n",
      "aʊ     3.48    V\n",
      "ɑ      3.45    V\n",
      "z      3.36    F\n",
      "ʒ      3.35    F\n",
      "ɔ      3.34    V\n",
      "d      3.28    P\n",
      "k      3.15    P\n",
      "t      3.15    P\n",
      "p      3.02    P\n",
      "g      3.01    P\n",
      "s      3.00    F\n",
      "ʃ      3.00    F\n",
      "ʤ      2.94   AF\n",
      "ʧ      2.77   AF\n",
      "f      2.75    F\n",
      "b      2.72    P\n"
     ]
    }
   ],
   "source": [
    "for (ph, H) in dict(sorted(xlsr_ph2entropy.items(), key=lambda item: item[1], reverse=True)).items():\n",
    "    print(f\"{ph:<4} {H:6.2f} {cat2class[ph]:>4}\")"
   ]
  },
  {
   "cell_type": "code",
   "execution_count": 41,
   "id": "d80a96e6",
   "metadata": {},
   "outputs": [],
   "source": [
    "phoneme_sim = defaultdict(lambda: defaultdict())\n",
    "xlsr_phoneme_sim = defaultdict(lambda: defaultdict())"
   ]
  },
  {
   "cell_type": "code",
   "execution_count": 42,
   "id": "9018d3ce",
   "metadata": {},
   "outputs": [],
   "source": [
    "for ph_1 in PHONEMES:\n",
    "    for ph_2 in PHONEMES:\n",
    "        ph_1, ph_2 = ph_02ph[ph_1], ph_02ph[ph_2]\n",
    "        phoneme_sim[ph_1][ph_2] = distance.jensenshannon(ph2dist[ph_1], ph2dist[ph_2])\n",
    "        xlsr_phoneme_sim[ph_1][ph_2] = distance.jensenshannon(xlsr_ph2dist[ph_1], xlsr_ph2dist[ph_2])"
   ]
  },
  {
   "cell_type": "code",
   "execution_count": 43,
   "id": "649dd0b2",
   "metadata": {},
   "outputs": [
    {
     "name": "stdout",
     "output_type": "stream",
     "text": [
      "w     0.000\n",
      "l     0.517\n",
      "u     0.525\n",
      "ʊ     0.582\n",
      "ɔ     0.585\n",
      "ɔɪ    0.597\n",
      "ə     0.602\n",
      "oʊ    0.619\n",
      "j     0.637\n",
      "m     0.648\n",
      "ɹ     0.658\n",
      "i     0.666\n",
      "ɪ     0.674\n",
      "ŋ     0.685\n",
      "ɑ     0.685\n",
      "ʌ     0.687\n",
      "v     0.690\n",
      "n     0.700\n",
      "b     0.708\n",
      "aʊ    0.717\n",
      "aɪ    0.724\n",
      "g     0.724\n",
      "eɪ    0.725\n",
      "ɝ     0.728\n",
      "ɛ     0.732\n",
      "ð     0.736\n",
      "h     0.748\n",
      "p     0.756\n",
      "k     0.763\n",
      "d     0.775\n",
      "æ     0.777\n",
      "f     0.783\n",
      "θ     0.785\n",
      "t     0.796\n",
      "z     0.808\n",
      "ʒ     0.810\n",
      "ʤ     0.811\n",
      "ʃ     0.816\n",
      "s     0.817\n",
      "ʧ     0.818\n"
     ]
    }
   ],
   "source": [
    "for (ph, JSD) in dict(sorted(phoneme_sim['w'].items(), key=lambda item: item[1])).items():\n",
    "    print(f\"{ph:<4} {JSD:6.3f}\")"
   ]
  },
  {
   "cell_type": "code",
   "execution_count": 44,
   "id": "f60bcd52",
   "metadata": {},
   "outputs": [
    {
     "name": "stdout",
     "output_type": "stream",
     "text": [
      "w     0.000\n",
      "l     0.363\n",
      "u     0.435\n",
      "ʊ     0.491\n",
      "ə     0.499\n",
      "oʊ    0.500\n",
      "ɔɪ    0.506\n",
      "ɔ     0.523\n",
      "ɹ     0.551\n",
      "m     0.556\n",
      "ʌ     0.570\n",
      "ŋ     0.587\n",
      "j     0.590\n",
      "ɪ     0.598\n",
      "ɛ     0.599\n",
      "ɝ     0.600\n",
      "v     0.604\n",
      "ɑ     0.606\n",
      "i     0.611\n",
      "aʊ    0.614\n",
      "n     0.616\n",
      "eɪ    0.617\n",
      "aɪ    0.620\n",
      "æ     0.638\n",
      "ð     0.653\n",
      "b     0.668\n",
      "g     0.709\n",
      "h     0.712\n",
      "p     0.724\n",
      "d     0.750\n",
      "θ     0.752\n",
      "k     0.756\n",
      "f     0.767\n",
      "z     0.782\n",
      "t     0.783\n",
      "ʒ     0.787\n",
      "s     0.802\n",
      "ʤ     0.803\n",
      "ʃ     0.807\n",
      "ʧ     0.813\n"
     ]
    }
   ],
   "source": [
    "for (ph, JSD) in dict(sorted(xlsr_phoneme_sim['w'].items(), key=lambda item: item[1])).items():\n",
    "    print(f\"{ph:<4} {JSD:6.3f}\")"
   ]
  },
  {
   "cell_type": "code",
   "execution_count": 45,
   "id": "1c8d82f2",
   "metadata": {},
   "outputs": [
    {
     "name": "stdout",
     "output_type": "stream",
     "text": [
      "P    3.469\tP    3.055\n",
      "F    3.901\tF    3.403\n",
      "N    4.129\tN    3.773\n",
      "AP   3.939\tAP   3.669\n",
      "AF   3.339\tAF   2.855\n",
      "C    3.781\tC    3.361\n",
      "V    4.278\tV    3.768\n"
     ]
    }
   ],
   "source": [
    "manner2ent_values = defaultdict(list)\n",
    "xlsr_manner2ent_values = defaultdict(list)\n",
    "\n",
    "for con in con2manner:\n",
    "    manner2ent_values[con2manner[con]].append(ph2entropy[con]) \n",
    "    xlsr_manner2ent_values[con2manner[con]].append(xlsr_ph2entropy[con]) \n",
    "    \n",
    "# manner2ent_values\n",
    "for m in manner2ent_values:\n",
    "    print(f\"{m:5}{sum(manner2ent_values[m])/len(manner2ent_values[m]):.3f}\", end='\\t')\n",
    "    print(f\"{m:5}{sum(xlsr_manner2ent_values[m])/len(xlsr_manner2ent_values[m]):.3f}\")\n",
    "    \n",
    "vowel_entroy = sum([ph2entropy[v] for v in VOWELS])/len(VOWELS)\n",
    "xlsr_vowel_entroy = sum([xlsr_ph2entropy[v] for v in VOWELS])/len(VOWELS)\n",
    "\n",
    "cons_entroy = sum([ph2entropy[c] for c in CONSONANTS])/len(CONSONANTS)\n",
    "xlsr_cons_entroy = sum([xlsr_ph2entropy[c] for c in CONSONANTS])/len(CONSONANTS)\n",
    "\n",
    "print(f\"{'C':5}{cons_entroy:.3f}\\t{'C':5}{xlsr_cons_entroy:.3f}\")\n",
    "print(f\"{'V':5}{vowel_entroy:.3f}\\t{'V':5}{xlsr_vowel_entroy:.3f}\")"
   ]
  },
  {
   "cell_type": "code",
   "execution_count": 46,
   "id": "a2a82b24",
   "metadata": {},
   "outputs": [],
   "source": [
    "def mean_entropy_group(ent_dict, phone_group):\n",
    "    \"\"\"Given a group of phonetic categories as a set, return mean entropy. \"\"\"\n",
    "    \n",
    "    H_sum = sum(ent_dict[k] for k in phone_group)\n",
    "    \n",
    "    return H_sum/len(phone_group)"
   ]
  },
  {
   "cell_type": "code",
   "execution_count": 47,
   "id": "c4584638",
   "metadata": {},
   "outputs": [],
   "source": [
    "def mean_entropy_group_with_errorbars(ent_dict, phone_group):\n",
    "    \"\"\"Given a group of phonetic categories as a set, return mean entropy. \"\"\"\n",
    "    \n",
    "    H_sum = sum(ent_dict[k] for k in phone_group)\n",
    "    \n",
    "    return H_sum/len(phone_group)"
   ]
  },
  {
   "cell_type": "code",
   "execution_count": 48,
   "id": "4eb47bd6",
   "metadata": {},
   "outputs": [
    {
     "data": {
      "text/plain": [
       "(3.45083087462242, 3.1084814114344925)"
      ]
     },
     "execution_count": 48,
     "metadata": {},
     "output_type": "execute_result"
    }
   ],
   "source": [
    "# unvoiced plosives\n",
    "unvoiced_plosives = {'p', 't', 'k'}\n",
    "mean_entropy_group(ph2entropy, unvoiced_plosives), mean_entropy_group(xlsr_ph2entropy, unvoiced_plosives)"
   ]
  },
  {
   "cell_type": "code",
   "execution_count": 49,
   "id": "13383048",
   "metadata": {},
   "outputs": [
    {
     "data": {
      "text/plain": [
       "(3.487523687637676, 3.000944647951737)"
      ]
     },
     "execution_count": 49,
     "metadata": {},
     "output_type": "execute_result"
    }
   ],
   "source": [
    "# voiced plosives\n",
    "voiced_plosives = {'b', 'd', 'g'}\n",
    "mean_entropy_group(ph2entropy, voiced_plosives), mean_entropy_group(xlsr_ph2entropy, voiced_plosives)"
   ]
  },
  {
   "cell_type": "code",
   "execution_count": 50,
   "id": "91944fae",
   "metadata": {},
   "outputs": [
    {
     "data": {
      "text/plain": [
       "(4.0643662356596675, 3.638851766969882)"
      ]
     },
     "execution_count": 50,
     "metadata": {},
     "output_type": "execute_result"
    }
   ],
   "source": [
    "# voiced fricatives \n",
    "voiced_fricatives = {'ð', 'z', 'ʒ', 'v'}\n",
    "mean_entropy_group(ph2entropy, voiced_fricatives), mean_entropy_group(xlsr_ph2entropy, voiced_fricatives)"
   ]
  },
  {
   "cell_type": "code",
   "execution_count": 51,
   "id": "9677ceac",
   "metadata": {},
   "outputs": [
    {
     "data": {
      "text/plain": [
       "(3.6996393140724786, 3.0719018145511248)"
      ]
     },
     "execution_count": 51,
     "metadata": {},
     "output_type": "execute_result"
    }
   ],
   "source": [
    "# unvoiced fricatives \n",
    "unvoiced_fricatives = {'θ', 's', 'ʃ', 'f'}\n",
    "mean_entropy_group(ph2entropy, unvoiced_fricatives), mean_entropy_group(xlsr_ph2entropy, unvoiced_fricatives)"
   ]
  },
  {
   "cell_type": "code",
   "execution_count": 52,
   "id": "84cb187c",
   "metadata": {},
   "outputs": [],
   "source": [
    "plt.rcParams.update({\n",
    "    \"text.usetex\": False,\n",
    "    \"font.family\": \"serif\",\n",
    "    \"font.serif\": [\"Palatino\"],\n",
    "})"
   ]
  },
  {
   "cell_type": "code",
   "execution_count": 53,
   "id": "ceb639c6",
   "metadata": {},
   "outputs": [],
   "source": [
    "category_to_entropy = {\n",
    "    \"vowels\": mean_entropy_group(ph2entropy, VOWELS),\n",
    "    \"consonants\": mean_entropy_group(ph2entropy, CONSONANTS),\n",
    "        \"sonorants\": mean_entropy_group(ph2entropy, SONORANTS),\n",
    "    \"obstruents\": mean_entropy_group(ph2entropy, OBSTRUENTS),\n",
    "    \"nasals\": mean_entropy_group(ph2entropy, manner2con['N']), \n",
    "    \"approximants\": mean_entropy_group(ph2entropy, manner2con['AP']),  \n",
    "    \"plosives\": mean_entropy_group(ph2entropy, manner2con['P']),  \n",
    "    \"fricatives\":mean_entropy_group(ph2entropy, manner2con['F']), \n",
    "    \"affricates\":mean_entropy_group(ph2entropy, manner2con['AF']), \n",
    "}"
   ]
  },
  {
   "cell_type": "code",
   "execution_count": 54,
   "id": "1ae98a36",
   "metadata": {},
   "outputs": [],
   "source": [
    "xlsr_category_to_entropy = {\n",
    "    \"vowels\": mean_entropy_group(xlsr_ph2entropy, VOWELS),\n",
    "    \"consonants\": mean_entropy_group(xlsr_ph2entropy, CONSONANTS),\n",
    "    \"sonorants\": mean_entropy_group(xlsr_ph2entropy, SONORANTS),\n",
    "    \"obstruents\": mean_entropy_group(xlsr_ph2entropy, OBSTRUENTS),\n",
    "    \"nasals\": mean_entropy_group(xlsr_ph2entropy, manner2con['N']), \n",
    "    \"approximants\": mean_entropy_group(xlsr_ph2entropy, manner2con['AP']),  \n",
    "    \"plosives\": mean_entropy_group(xlsr_ph2entropy, manner2con['P']),  \n",
    "    \"fricatives\":mean_entropy_group(xlsr_ph2entropy, manner2con['F']), \n",
    "    \"affricates\":mean_entropy_group(xlsr_ph2entropy, manner2con['AF']), \n",
    "}"
   ]
  },
  {
   "cell_type": "code",
   "execution_count": 55,
   "id": "6907f359",
   "metadata": {},
   "outputs": [],
   "source": [
    "import seaborn as sns\n",
    "from matplotlib.ticker import FuncFormatter\n",
    "\n",
    "plt.style.use('seaborn-v0_8-white') # pretty matplotlib plots\n",
    "plt.rc('font', size=14)\n",
    "plt.rc('figure', titlesize=18)\n",
    "plt.rc('axes', labelsize=15)"
   ]
  },
  {
   "cell_type": "code",
   "execution_count": 56,
   "id": "bdd61ca6",
   "metadata": {},
   "outputs": [],
   "source": [
    "w2v2_group2entropies = defaultdict() #lambda: defaultdict(list)\n",
    "xlsr_group2entropies = defaultdict() #lambda: defaultdict(list)\n",
    "\n",
    "\n",
    "#print(w2v2_group2entropies)\n",
    "GROUPS = [VOWELS, CONSONANTS, SONORANTS, OBSTRUENTS, APPROXIMANTS,  NASALS, FRICATIVES, AFRICATES, PLOSIVES]\n",
    "\n",
    "group_str = [\n",
    "    'VOWELS',\n",
    "    'CONSONANTS',\n",
    "    'SONORANTS',\n",
    "    'OBSTRUENTS',\n",
    "    'APPROXIMANTS',\n",
    "    'NASALS',\n",
    "    'FRICATIVES',\n",
    "    'AFRICATES',\n",
    "    'PLOSIVES',\n",
    "]\n",
    "\n",
    "for _str, group in zip(group_str, GROUPS):\n",
    "    \n",
    "    w2v2_group2entropies[_str] = {p:0 for p in group}\n",
    "    xlsr_group2entropies[_str] = {p:0 for p in group}\n",
    "    \n",
    "    for ph in group:\n",
    "        \n",
    "        w2v2_group2entropies[_str][ph] = ph2entropy[ph]\n",
    "        xlsr_group2entropies[_str][ph] = xlsr_ph2entropy[ph]"
   ]
  },
  {
   "cell_type": "code",
   "execution_count": 57,
   "id": "41569d2a",
   "metadata": {},
   "outputs": [
    {
     "data": {
      "text/plain": [
       "{'ɔɪ': 4.135067555013164,\n",
       " 'ɪ': 4.617755369922513,\n",
       " 'ə': 4.6558844853100485,\n",
       " 'i': 4.205701374154351,\n",
       " 'ɑ': 4.006439584968272,\n",
       " 'oʊ': 4.3279504409390075,\n",
       " 'ʊ': 4.550347048151243,\n",
       " 'aɪ': 4.1050487837237934,\n",
       " 'ɔ': 3.8725034498563,\n",
       " 'eɪ': 4.270685375907247,\n",
       " 'ɛ': 4.493756129916106,\n",
       " 'æ': 4.129778524031256,\n",
       " 'u': 4.215039999905356,\n",
       " 'aʊ': 4.090551097903015,\n",
       " 'ʌ': 4.497354165821488}"
      ]
     },
     "execution_count": 57,
     "metadata": {},
     "output_type": "execute_result"
    }
   ],
   "source": [
    "w2v2_group2entropies['VOWELS']"
   ]
  },
  {
   "cell_type": "code",
   "execution_count": 58,
   "id": "4c6e4a89",
   "metadata": {},
   "outputs": [],
   "source": [
    "entropy_means = []\n",
    "entropy_stds = []\n",
    "\n",
    "for group in w2v2_group2entropies:\n",
    "    entropy_means.append(np.array(list(w2v2_group2entropies[group].values())).mean())\n",
    "    entropy_stds.append(np.array(list(w2v2_group2entropies[group].values())).std())"
   ]
  },
  {
   "cell_type": "code",
   "execution_count": 59,
   "id": "a286f5f1",
   "metadata": {},
   "outputs": [],
   "source": [
    "xlsr_entropy_means = []\n",
    "xlsr_entropy_stds = []\n",
    "\n",
    "for group in xlsr_group2entropies:\n",
    "\n",
    "    xlsr_entropy_means.append(np.array(list(xlsr_group2entropies[group].values())).mean())\n",
    "    xlsr_entropy_stds.append(np.array(list(xlsr_group2entropies[group].values())).std())"
   ]
  },
  {
   "cell_type": "code",
   "execution_count": 60,
   "id": "510ed335",
   "metadata": {},
   "outputs": [
    {
     "data": {
      "text/plain": [
       "(4.278257559034878, 0.2286817134694849)"
      ]
     },
     "execution_count": 60,
     "metadata": {},
     "output_type": "execute_result"
    }
   ],
   "source": [
    "np.array(list(w2v2_group2entropies['VOWELS'].values())).mean(), np.array(list(w2v2_group2entropies['VOWELS'].values())).std()"
   ]
  },
  {
   "cell_type": "code",
   "execution_count": 61,
   "id": "d5809996",
   "metadata": {},
   "outputs": [
    {
     "data": {
      "image/png": "[encoded data removed]",
      "text/plain": [
       "<Figure size 220x330 with 1 Axes>"
      ]
     },
     "metadata": {},
     "output_type": "display_data"
    }
   ],
   "source": [
    "width = 0.55  # the width of the bars\n",
    "values = list(reversed(list(category_to_entropy.values())))\n",
    "\n",
    "labels = ['plosives', 'affricates', 'fricatives',   'nasals',  'approximants', 'obstruents', 'sonorants', 'consonants', 'vowels']\n",
    "\n",
    "x = np.arange(len(labels))  # the label locations\n",
    "\n",
    "fig = plt.figure(figsize =(2*1.1, 3*1.1))\n",
    "ax = fig.add_axes([0, 0, 1, 1])\n",
    "ax.set_xlim([2, 5])\n",
    "ax.set_xticks(np.arange(2, 5, 1)) #, scale='normal'\n",
    "\n",
    "ax.tick_params(axis=\"y\", direction='in', width=1, length=6)\n",
    "ax.tick_params(axis=\"x\", direction='in', width=1, length=6)\n",
    "\n",
    "for axis in [ax.xaxis, ax.yaxis]:\n",
    "    formatter = FuncFormatter(lambda y, _: '{:.3g}'.format(y))\n",
    "    axis.set_major_formatter(formatter)\n",
    "    \n",
    "entropy_bar_w2v = ax.barh(x, list(reversed(entropy_means)), width, color='r', edgecolor='k', linewidth=1, xerr = list(reversed(entropy_stds)), capsize=3)\n",
    "\n",
    "ax.set_xlabel(r'Entropy (bits)', fontsize=14)\n",
    "ax.set_yticks(x, labels)\n",
    "\n",
    "ax.xaxis.set_label_position('bottom') \n",
    "#ax.xaxis.tick_top()\n",
    "\n",
    "plt.yticks(rotation=0)\n",
    "ax.grid(axis='x')\n",
    "#plt.savefig(f\"all_phone_entropy_w2v2.pdf\", bbox_inches='tight')\n",
    "plt.show()"
   ]
  },
  {
   "cell_type": "code",
   "execution_count": 62,
   "id": "5f472e31",
   "metadata": {},
   "outputs": [
    {
     "data": {
      "image/png": "[encoded data removed]",
      "text/plain": [
       "<Figure size 220x330 with 1 Axes>"
      ]
     },
     "metadata": {},
     "output_type": "display_data"
    }
   ],
   "source": [
    "width = 0.55  # the width of the bars\n",
    "values = list(reversed(list(category_to_entropy.values())))\n",
    "\n",
    "labels = ['plosives', 'affricates', 'fricatives',   'nasals',  'approximants', 'obstruents', 'sonorants', 'consonants', 'vowels']\n",
    "\n",
    "x = np.arange(len(labels))  # the label locations\n",
    "\n",
    "fig = plt.figure(figsize =(2*1.1, 3*1.1))\n",
    "ax = fig.add_axes([0, 0, 1, 1])\n",
    "ax.set_xlim([2, 5])\n",
    "ax.set_xticks(np.arange(2, 5, 1)) #, scale='normal'\n",
    "\n",
    "ax.tick_params(axis=\"y\", direction='in', width=1, length=6)\n",
    "ax.tick_params(axis=\"x\", direction='in', width=1, length=6)\n",
    "\n",
    "for axis in [ax.xaxis, ax.yaxis]:\n",
    "    formatter = FuncFormatter(lambda y, _: '{:.3g}'.format(y))\n",
    "    axis.set_major_formatter(formatter)\n",
    "    \n",
    "entropy_bar_w2v = ax.barh(x, list(reversed(xlsr_entropy_means)), width, color='r', edgecolor='k', linewidth=1, xerr = list(reversed(xlsr_entropy_stds)), capsize=3)\n",
    "\n",
    "ax.set_xlabel(r'Entropy (bits)', fontsize=14)\n",
    "ax.set_yticks(x, labels)\n",
    "\n",
    "ax.xaxis.set_label_position('bottom') \n",
    "#ax.xaxis.tick_top()\n",
    "\n",
    "plt.yticks(rotation=0)\n",
    "ax.grid(axis='x')\n",
    "#plt.savefig(f\"all_phone_entropy_xlsr.pdf\", bbox_inches='tight')\n",
    "plt.show()"
   ]
  },
  {
   "cell_type": "code",
   "execution_count": 63,
   "id": "14fcbefa",
   "metadata": {},
   "outputs": [
    {
     "data": {
      "image/png": "[encoded data removed]",
      "text/plain": [
       "<Figure size 1000x200 with 1 Axes>"
      ]
     },
     "metadata": {},
     "output_type": "display_data"
    }
   ],
   "source": [
    "# the width of the bars\n",
    "w2v_ph2entropy_sorted  = {k: v for k, v in sorted(ph2entropy.items(), key=lambda item: item[1], reverse=True)}\n",
    "w2v_ph2color = {ph: ph2color[ph] for ph in w2v_ph2entropy_sorted.keys()}\n",
    "\n",
    "labels = w2v_ph2entropy_sorted.keys()\n",
    "\n",
    "x = np.arange(len(labels))  # the label locations\n",
    "\n",
    "fig = plt.figure(figsize =(10, 2))\n",
    "ax = fig.add_axes([0, 0, 1, 1])\n",
    "ax.set_ylim([2, 5])\n",
    "\n",
    "ax.tick_params(axis=\"y\", direction='in', width=1, length=6)\n",
    "ax.tick_params(axis=\"x\", direction='out', width=1, length=6)\n",
    "\n",
    "for axis in [ax.xaxis, ax.yaxis]:\n",
    "    formatter = FuncFormatter(lambda y, _: '{:.3g}'.format(y))\n",
    "    axis.set_major_formatter(formatter)\n",
    "    \n",
    "entropy_bar_w2v = ax.bar(x, w2v_ph2entropy_sorted.values(), color=w2v_ph2color.values(), edgecolor='k', linewidth=1)\n",
    "\n",
    "ax.set_ylabel(r'Entropy (bits)', fontsize=14)\n",
    "\n",
    "ax.set_xticks(x, labels)\n",
    "plt.xticks(rotation=0)\n",
    "    \n",
    "\n",
    "ax.grid(axis='y')\n",
    "\n",
    "        \n",
    "colors = {\n",
    "    'fricatives':'red', \n",
    "    'affricates':'purple', \n",
    "    \"nasals\": 'green', \n",
    "    \"approximants\": 'lightblue', \n",
    "    \"plosives\": 'orange',\n",
    "    \"vowels\": 'b',\n",
    "    \n",
    "}         \n",
    "\n",
    "color_labels = list(colors.keys())\n",
    "\n",
    "\n",
    "handles = [\n",
    "    plt.Rectangle((0,0),1,1, facecolor=colors[label], fill=True, edgecolor='k') \n",
    "    for label in color_labels\n",
    "\n",
    "]\n",
    "\n",
    "plt.legend(handles, color_labels, loc=\"upper right\", bbox_to_anchor=(1.00, 1.05),  ncol=3, fancybox=True, fontsize=14, shadow=True)\n",
    "\n",
    "#plt.savefig(f\"w2v2_phone_entropy.pdf\", bbox_inches='tight')\n",
    "\n",
    "\n",
    "\n",
    "plt.show()"
   ]
  },
  {
   "cell_type": "code",
   "execution_count": 64,
   "id": "d16e62ef",
   "metadata": {},
   "outputs": [
    {
     "data": {
      "image/png": "[encoded data removed]",
      "text/plain": [
       "<Figure size 1000x200 with 1 Axes>"
      ]
     },
     "metadata": {},
     "output_type": "display_data"
    }
   ],
   "source": [
    "width = 0.9  # the width of the bars\n",
    "xlsr_ph2entropy_sorted  = {k: v for k, v in sorted(xlsr_ph2entropy.items(), key=lambda item: item[1], reverse=True)}\n",
    "\n",
    "xlsr_ph2color = {ph: ph2color[ph] for ph in xlsr_ph2entropy_sorted.keys()}\n",
    "\n",
    "labels = xlsr_ph2entropy_sorted.keys()\n",
    "x = np.arange(len(labels))  # the label locations\n",
    "\n",
    "fig = plt.figure(figsize =(10, 2))\n",
    "ax = fig.add_axes([0, 0, 1, 1])\n",
    "ax.set_ylim([2, 5])\n",
    "\n",
    "ax.tick_params(axis=\"y\", direction='in', width=1, length=6)\n",
    "ax.tick_params(axis=\"x\", direction='out', width=1, length=6)\n",
    "\n",
    "for axis in [ax.xaxis, ax.yaxis]:\n",
    "    formatter = FuncFormatter(lambda y, _: '{:.3g}'.format(y))\n",
    "    axis.set_major_formatter(formatter)\n",
    "    \n",
    "entropy_bar_w2v = ax.bar(x, xlsr_ph2entropy_sorted.values(), color=xlsr_ph2color.values(), edgecolor='k', linewidth=1, fill=True)\n",
    "\n",
    "ax.set_ylabel(r'Entropy (bits)', fontsize=14)\n",
    "ax.set_xticks(x, labels)\n",
    "plt.xticks(rotation=0)\n",
    " \n",
    "ax.grid(axis='y')\n",
    "\n",
    "color_labels = list(colors.keys())\n",
    "\n",
    "handles = [\n",
    "    plt.Rectangle((0,0),1,1, facecolor=colors[label], fill=True, edgecolor='k') \n",
    "    for label in color_labels\n",
    "\n",
    "]\n",
    "plt.legend(handles, color_labels, loc=\"upper right\", bbox_to_anchor=(1.00, 1.05),  ncol=3, fancybox=True, fontsize=14, shadow=True)\n",
    "\n",
    "#plt.savefig(f\"xlsr_phone_entropy.pdf\", bbox_inches='tight')\n",
    "\n",
    "plt.show()"
   ]
  },
  {
   "cell_type": "code",
   "execution_count": 65,
   "id": "51b1376e",
   "metadata": {},
   "outputs": [
    {
     "data": {
      "image/png": "[encoded data removed]",
      "text/plain": [
       "<Figure size 1500x300 with 1 Axes>"
      ]
     },
     "metadata": {},
     "output_type": "display_data"
    }
   ],
   "source": [
    "# unsupervised clustering analysis\n",
    "JSD_matrix = np.zeros(shape=(len(PHONEMES), len(PHONEMES)))\n",
    "\n",
    "for i, ph_1 in enumerate(PHONEMES):\n",
    "    for j, ph_2 in enumerate(PHONEMES):\n",
    "        JSD_matrix[i][j] = phoneme_sim[ph_1][ph_2]\n",
    "        \n",
    "condensed_JSD_matrix = squareform(JSD_matrix)\n",
    "\n",
    "Z = hierarchy.linkage(condensed_JSD_matrix, method='ward', optimal_ordering=True)\n",
    "\n",
    "fig, axes = plt.subplots(1, 1, figsize=(15, 3))\n",
    "\n",
    "dn1 = hierarchy.dendrogram(Z, ax=axes, above_threshold_color='y', orientation='top', labels=PHONEMES, leaf_font_size=14, leaf_rotation=0)\n",
    "\n",
    "\n",
    "hierarchy.set_link_color_palette(None)  # reset to default after use\n",
    "\n",
    "#plt.savefig(f\"w2v_cluster.pdf\", bbox_inches='tight')\n",
    "\n",
    "plt.show()"
   ]
  },
  {
   "cell_type": "code",
   "execution_count": 66,
   "id": "552bac78",
   "metadata": {},
   "outputs": [
    {
     "data": {
      "image/png": "[encoded data removed]",
      "text/plain": [
       "<Figure size 1500x300 with 1 Axes>"
      ]
     },
     "metadata": {},
     "output_type": "display_data"
    }
   ],
   "source": [
    "# unsupervised clustering analysis\n",
    "xlsr_JSD_matrix = np.zeros(shape=(len(PHONEMES), len(PHONEMES)))\n",
    "\n",
    "for i, ph_1 in enumerate(PHONEMES):\n",
    "    for j, ph_2 in enumerate(PHONEMES):\n",
    "        xlsr_JSD_matrix[i][j] = xlsr_phoneme_sim[ph_1][ph_2]\n",
    "        \n",
    "xlsr_condensed_JSD_matrix = squareform(xlsr_JSD_matrix)\n",
    "\n",
    "xlsr_Z = hierarchy.linkage(xlsr_condensed_JSD_matrix, 'ward', optimal_ordering=True)\n",
    "\n",
    "fig, axes = plt.subplots(1, 1, figsize=(15, 3))\n",
    "\n",
    "dn1 = hierarchy.dendrogram(xlsr_Z, ax=axes, above_threshold_color='y', orientation='top', labels=PHONEMES, leaf_font_size=14, leaf_rotation=0)\n",
    "\n",
    "\n",
    "hierarchy.set_link_color_palette(None)  # reset to default after use\n",
    "\n",
    "#plt.savefig(f\"xlsr_cluster.pdf\", bbox_inches='tight')\n",
    "\n",
    "plt.show()"
   ]
  },
  {
   "cell_type": "code",
   "execution_count": null,
   "id": "f9412944",
   "metadata": {},
   "outputs": [],
   "source": []
  }
 ],
 "metadata": {
  "kernelspec": {
   "display_name": "Python 3 (ipykernel)",
   "language": "python",
   "name": "python3"
  },
  "language_info": {
   "codemirror_mode": {
    "name": "ipython",
    "version": 3
   },
   "file_extension": ".py",
   "mimetype": "text/x-python",
   "name": "python",
   "nbconvert_exporter": "python",
   "pygments_lexer": "ipython3",
   "version": "3.10.9"
  }
 },
 "nbformat": 4,
 "nbformat_minor": 5
}
